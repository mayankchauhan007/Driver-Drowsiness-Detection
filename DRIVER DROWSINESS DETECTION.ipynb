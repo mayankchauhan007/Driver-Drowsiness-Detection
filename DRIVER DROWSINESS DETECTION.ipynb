{
 "cells": [
  {
   "cell_type": "code",
   "execution_count": 1,
   "metadata": {},
   "outputs": [],
   "source": [
    "import tensorflow as tf\n",
    "import numpy as np\n",
    "from tensorflow import keras\n",
    "import os\n",
    "import cv2\n",
    "from tensorflow.keras.preprocessing.image import ImageDataGenerator\n",
    "from tensorflow.keras.preprocessing import image\n",
    "import matplotlib.pyplot as plt"
   ]
  },
  {
   "cell_type": "code",
   "execution_count": 2,
   "metadata": {},
   "outputs": [],
   "source": [
    "from keras.models import Sequential\n",
    "from keras.layers import Dense,Dropout,Conv2D,MaxPooling2D,Flatten\n",
    "from keras.preprocessing.image import ImageDataGenerator"
   ]
  },
  {
   "cell_type": "code",
   "execution_count": 3,
   "metadata": {},
   "outputs": [],
   "source": [
    "\n",
    "train = ImageDataGenerator(rescale=1/255,shear_range=0.2,zoom_range=0.2,horizontal_flip=True)\n",
    "validation = ImageDataGenerator(rescale=1/255)"
   ]
  },
  {
   "cell_type": "code",
   "execution_count": 4,
   "metadata": {},
   "outputs": [
    {
     "name": "stdout",
     "output_type": "stream",
     "text": [
      "Found 1234 images belonging to 2 classes.\n",
      "Found 218 images belonging to 2 classes.\n"
     ]
    }
   ],
   "source": [
    "\n",
    "train_image_gen = train.flow_from_directory('C:/Users/mayan/Desktop/realtime driver drowsiness detection Project/dataset/train/',target_size=(100,100),batch_size=32,color_mode='grayscale',class_mode='binary')\n",
    "valid_image_gen = validation.flow_from_directory('C:/Users/mayan/Desktop/realtime driver drowsiness detection Project/dataset/test/',target_size=(100,100),batch_size=32,color_mode='grayscale',class_mode='binary')\n"
   ]
  },
  {
   "cell_type": "code",
   "execution_count": 5,
   "metadata": {},
   "outputs": [],
   "source": [
    "img_size = 224"
   ]
  },
  {
   "cell_type": "code",
   "execution_count": 6,
   "metadata": {},
   "outputs": [
    {
     "name": "stdout",
     "output_type": "stream",
     "text": [
      "38 6\n",
      "{'Closed': 0, 'Open': 1}\n"
     ]
    },
    {
     "name": "stderr",
     "output_type": "stream",
     "text": [
      "C:\\Users\\mayan\\AppData\\Local\\Temp\\ipykernel_20264\\3841714561.py:37: UserWarning: `Model.fit_generator` is deprecated and will be removed in a future version. Please use `Model.fit`, which supports generators.\n",
      "  results = model.fit_generator(train_image_gen,validation_data=valid_image_gen,epochs=10,steps_per_epoch=SPE,validation_steps=VS)\n"
     ]
    },
    {
     "name": "stdout",
     "output_type": "stream",
     "text": [
      "Epoch 1/10\n",
      "38/38 [==============================] - 23s 576ms/step - loss: 0.6873 - accuracy: 0.5216 - val_loss: 0.6497 - val_accuracy: 0.5365\n",
      "Epoch 2/10\n",
      "38/38 [==============================] - 15s 400ms/step - loss: 0.5249 - accuracy: 0.7604 - val_loss: 0.2741 - val_accuracy: 0.9167\n",
      "Epoch 3/10\n",
      "38/38 [==============================] - 15s 396ms/step - loss: 0.3424 - accuracy: 0.8769 - val_loss: 0.2314 - val_accuracy: 0.9271\n",
      "Epoch 4/10\n",
      "38/38 [==============================] - 16s 410ms/step - loss: 0.2710 - accuracy: 0.9043 - val_loss: 0.1408 - val_accuracy: 0.9479\n",
      "Epoch 5/10\n",
      "38/38 [==============================] - 15s 383ms/step - loss: 0.1986 - accuracy: 0.9201 - val_loss: 0.1869 - val_accuracy: 0.9323\n",
      "Epoch 6/10\n",
      "38/38 [==============================] - 14s 354ms/step - loss: 0.1929 - accuracy: 0.9309 - val_loss: 0.1448 - val_accuracy: 0.9479\n",
      "Epoch 7/10\n",
      "38/38 [==============================] - 14s 356ms/step - loss: 0.1579 - accuracy: 0.9434 - val_loss: 0.1415 - val_accuracy: 0.9375\n",
      "Epoch 8/10\n",
      "38/38 [==============================] - 14s 358ms/step - loss: 0.1551 - accuracy: 0.9484 - val_loss: 0.1358 - val_accuracy: 0.9323\n",
      "Epoch 9/10\n",
      "38/38 [==============================] - 14s 355ms/step - loss: 0.1117 - accuracy: 0.9651 - val_loss: 0.0917 - val_accuracy: 0.9635\n",
      "Epoch 10/10\n",
      "38/38 [==============================] - 14s 373ms/step - loss: 0.1115 - accuracy: 0.9651 - val_loss: 0.0906 - val_accuracy: 0.9635\n"
     ]
    }
   ],
   "source": [
    "batch_size=32\n",
    "SPE= len(train_image_gen.classes)//batch_size \n",
    "VS = len(valid_image_gen.classes)//batch_size \n",
    "print(SPE,VS)\n",
    "\n",
    "print(train_image_gen.class_indices)\n",
    "\n",
    "model = Sequential()\n",
    "model.add(Conv2D(64,(3,3),input_shape=(100,100,1),activation=\"relu\"))\n",
    "model.add(MaxPooling2D((2,2)))\n",
    "\n",
    "model.add(Conv2D(32,(3,3),activation=\"relu\"))\n",
    "model.add(MaxPooling2D((2,2)))\n",
    "\n",
    "model.add(Conv2D(32,(3,3),activation=\"relu\"))\n",
    "model.add(MaxPooling2D((2,2)))\n",
    "\n",
    "model.add(Conv2D(16,(3,3),activation=\"relu\"))\n",
    "model.add(MaxPooling2D((2,2)))\n",
    "\n",
    "model.add(Conv2D(16,(3,3),activation=\"relu\"))\n",
    "model.add(MaxPooling2D((2,2)))\n",
    "\n",
    "model.add(Flatten())\n",
    "model.add(Dropout(0.5))\n",
    "\n",
    "model.add(Dense(128,activation=\"relu\"))\n",
    "model.add(Dropout(0.2))\n",
    "\n",
    "model.add(Dense(64,activation=\"relu\"))\n",
    "model.add(Dropout(0.2))\n",
    "\n",
    "model.add(Dense(1,activation='sigmoid'))\n",
    "\n",
    "model.compile(optimizer=\"adam\",loss=\"binary_crossentropy\",metrics=[\"accuracy\"])\n",
    "\n",
    "results = model.fit_generator(train_image_gen,validation_data=valid_image_gen,epochs=10,steps_per_epoch=SPE,validation_steps=VS)\n",
    "\n",
    "model.save(\"CNN__model.h5\")"
   ]
  },
  {
   "cell_type": "code",
   "execution_count": 7,
   "metadata": {},
   "outputs": [
    {
     "name": "stdout",
     "output_type": "stream",
     "text": [
      "pygame 2.1.2 (SDL 2.0.18, Python 3.10.2)\n",
      "Hello from the pygame community. https://www.pygame.org/contribute.html\n"
     ]
    }
   ],
   "source": [
    "import cv2\n",
    "import os\n",
    "from keras.models import load_model\n",
    "import numpy as np\n",
    "from pygame import mixer\n",
    "import time"
   ]
  },
  {
   "cell_type": "code",
   "execution_count": 8,
   "metadata": {},
   "outputs": [],
   "source": [
    "\n",
    "mixer.init()\n",
    "sound = mixer.Sound('alarm.wav')"
   ]
  },
  {
   "cell_type": "code",
   "execution_count": 9,
   "metadata": {},
   "outputs": [],
   "source": [
    "\n",
    "face = cv2.CascadeClassifier('haarcascade_frontalface_default.xml')\n",
    "leye = cv2.CascadeClassifier('haarcascade_lefteye_2splits.xml')\n",
    "reye = cv2.CascadeClassifier('haarcascade_righteye_2splits.xml')\n",
    "eyes=cv2.CascadeClassifier('haarcascade_eye.xml')"
   ]
  },
  {
   "cell_type": "code",
   "execution_count": 10,
   "metadata": {},
   "outputs": [
    {
     "data": {
      "text/plain": [
       "<CascadeClassifier 000001431FDB3A10>"
      ]
     },
     "execution_count": 10,
     "metadata": {},
     "output_type": "execute_result"
    }
   ],
   "source": [
    "face"
   ]
  },
  {
   "cell_type": "code",
   "execution_count": 11,
   "metadata": {},
   "outputs": [
    {
     "data": {
      "text/plain": [
       "<CascadeClassifier 000001436FAB33F0>"
      ]
     },
     "execution_count": 11,
     "metadata": {},
     "output_type": "execute_result"
    }
   ],
   "source": [
    "leye"
   ]
  },
  {
   "cell_type": "code",
   "execution_count": 12,
   "metadata": {},
   "outputs": [
    {
     "data": {
      "text/plain": [
       "<CascadeClassifier 000001431FDB39B0>"
      ]
     },
     "execution_count": 12,
     "metadata": {},
     "output_type": "execute_result"
    }
   ],
   "source": [
    "reye"
   ]
  },
  {
   "cell_type": "code",
   "execution_count": 13,
   "metadata": {},
   "outputs": [
    {
     "data": {
      "text/plain": [
       "<CascadeClassifier 000001431FDB3930>"
      ]
     },
     "execution_count": 13,
     "metadata": {},
     "output_type": "execute_result"
    }
   ],
   "source": [
    "eyes"
   ]
  },
  {
   "cell_type": "code",
   "execution_count": 14,
   "metadata": {},
   "outputs": [],
   "source": [
    "lbl = \"Open\"\n",
    "model = load_model('CNN__model.h5')\n",
    "path = os.getcwd()\n",
    "cap = cv2.VideoCapture(0) #to access the camera \n",
    "font = cv2.FONT_HERSHEY_COMPLEX_SMALL\n",
    "count=0\n",
    "score=0\n",
    "thicc=2\n",
    "rpred=[99]\n",
    "lpred=[99]\n"
   ]
  },
  {
   "cell_type": "code",
   "execution_count": null,
   "metadata": {},
   "outputs": [],
   "source": [
    "\n",
    "\n",
    "while(True):\n",
    "    ret, frame = cap.read()   \n",
    "    height,width = frame.shape[:2] \n",
    "\n",
    "    gray = cv2.cvtColor(frame, cv2.COLOR_BGR2GRAY) \n",
    "    faces = face.detectMultiScale(gray,minNeighbors=5,scaleFactor=1.1,minSize=(25,25)) #Face detection\n",
    "    eye=eyes.detectMultiScale(gray) #eye detection\n",
    "    left_eye = leye.detectMultiScale(gray) #Left eye detection\n",
    "    right_eye =  reye.detectMultiScale(gray) #Right eye detection\n",
    "    \n",
    "    cv2.rectangle(frame, (0,height-50) , (200,height) , (0,0,0) ,thickness=cv2.FILLED)\n",
    "\n",
    "    for (x,y,w,h) in faces:\n",
    "        cv2.rectangle(frame, (x,y) , (x+w,y+h) , (150,150,150) , 1) \n",
    "        \n",
    "    for (x,y,w,h) in eye:\n",
    "        cv2.rectangle(frame, (x,y),(x+w,y+h) ,(150,150,150) , 1) \n",
    "       \n",
    "    for (x,y,w,h) in right_eye:\n",
    "        r_eye=frame[y:y+h,x:x+w]\n",
    "        count=count+1\n",
    "        r_eye = cv2.cvtColor(r_eye,cv2.COLOR_BGR2GRAY)\n",
    "        r_eye = cv2.resize(r_eye,(100,100)) \n",
    "        r_eye= r_eye/255                  \n",
    "        r_eye=  r_eye.reshape(100,100,-1)\n",
    "        r_eye = np.expand_dims(r_eye,axis=0)\n",
    "        rpred = model.predict(r_eye)[0]\n",
    "\n",
    "        if(rpred[0]>0.5):\n",
    "            lbl='Open' \n",
    "        else:\n",
    "            lbl='Closed'\n",
    "        break\n",
    "\n",
    "    for (x,y,w,h) in left_eye:\n",
    "        l_eye=frame[y:y+h,x:x+w]\n",
    "        count=count+1\n",
    "        l_eye = cv2.cvtColor(l_eye,cv2.COLOR_BGR2GRAY)  \n",
    "        l_eye = cv2.resize(l_eye,(100,100))\n",
    "        l_eye= l_eye/255\n",
    "        l_eye=l_eye.reshape(100,100,-1)\n",
    "        l_eye = np.expand_dims(l_eye,axis=0)\n",
    "        lpred = model.predict(l_eye)[0]\n",
    "        if(lpred[0]>0.5):\n",
    "            lbl='Open'   \n",
    "        else:\n",
    "            lbl='Closed'\n",
    "        break\n",
    "\n",
    "    cv2.putText(frame,lbl,(10,height-20), font, 1,(255,255,255),1,cv2.LINE_AA)\n",
    "\n",
    "    if lbl==\"Open\":score = 0\n",
    "    else: score -= 1\n",
    "    \n",
    "    cv2.putText(frame,'Score:'+str(score),(100,height-20), font, 1,(255,255,255),1,cv2.LINE_AA)\n",
    "    \n",
    "    if score <= -10:\n",
    "        #person is feeling sleepy so we beep the alarm\n",
    "        cv2.imwrite(os.path.join(path,'image.jpg'),frame)\n",
    "        \n",
    "        \n",
    "        if lbl == 'Open': \n",
    "            score = 0\n",
    "            mixer.quit()\n",
    "        else:\n",
    "            sound.play()\n",
    "            cv2.putText(frame,'Wake up !!',(100,height-50), font, 1,(255,255,255),1,cv2.LINE_AA)\n",
    "\n",
    "        \n",
    "        if(thicc<16):\n",
    "            thicc= thicc+2\n",
    "        else:\n",
    "            thicc=thicc-2\n",
    "            if(thicc<2):\n",
    "                thicc=2\n",
    "        cv2.rectangle(frame,(0,0),(width,height),(0,0,255),thicc) \n",
    "\n",
    "    cv2.imshow('Driver drowsiness detection',frame)\n",
    "    if cv2.waitKey(1) & 0xFF == ord('q'):\n",
    "        break\n",
    "cap.release()\n",
    "cv2.destroyAllWindows()"
   ]
  },
  {
   "cell_type": "code",
   "execution_count": null,
   "metadata": {},
   "outputs": [],
   "source": [
    "\n",
    "cap.release()\n",
    "cv2.destroyAllWindows()"
   ]
  },
  {
   "cell_type": "code",
   "execution_count": null,
   "metadata": {},
   "outputs": [],
   "source": []
  }
 ],
 "metadata": {
  "interpreter": {
   "hash": "0e107293a1d140d83dbbf32995913b2c919f28a44c73f7b507ef912319e9e5c3"
  },
  "kernelspec": {
   "display_name": "Python 3.10.2 64-bit",
   "language": "python",
   "name": "python3"
  },
  "language_info": {
   "codemirror_mode": {
    "name": "ipython",
    "version": 3
   },
   "file_extension": ".py",
   "mimetype": "text/x-python",
   "name": "python",
   "nbconvert_exporter": "python",
   "pygments_lexer": "ipython3",
   "version": "3.10.2"
  },
  "orig_nbformat": 4
 },
 "nbformat": 4,
 "nbformat_minor": 2
}
